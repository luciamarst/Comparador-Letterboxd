{
 "cells": [
  {
   "cell_type": "markdown",
   "id": "176868d9",
   "metadata": {},
   "source": [
    "# Compatibilidad cinematográfica basado en tu cuenta de Letterboxd\n",
    "\n",
    "Implementación y explicación detallada de la implementación de un sistema recomendador cuyo objetivo es el de estimar la compatailidad entre dos personas según sus cuentas de letterboxd, usando para ellos las películas en función de tus críticas, ratings, likes y demás interacciones de tu cuenta de Letterboxd.\n",
    "\n",
    "Para ello, utilizaremos el documento .csv asociado a tu cuenta que el propio Letterboxd facilita en esta página de aquí: https://letterboxd.com/settings/data\n",
    "\n",
    "A través de este enlace puede accederse directamente a la exportación de varios documentos .csv como el de ratings, reviews entre otros, los cuales utilizaremos para implementar el recomendador."
   ]
  },
  {
   "cell_type": "markdown",
   "id": "5ead6a53",
   "metadata": {},
   "source": [
    "### Importación de librerías\n",
    "\n",
    "Para hacer más fácil el proceso de implementación, podemos partir de librerías como [Surprise](https://surpriselib.com/), donde tenemos información sobre distintos algoritmos.\n",
    "\n",
    "Además, necesitaremos otras librerías como [Pandas](https://pandas.pydata.org/) para representar los datos y otras como [Matplotlib](https://matplotlib.org/) y [Seaborn](https://seaborn.pydata.org/) para visualizar los datos."
   ]
  },
  {
   "cell_type": "code",
   "execution_count": 16,
   "id": "6779e7bf",
   "metadata": {},
   "outputs": [],
   "source": [
    "import numpy as np\n",
    "import pandas as pd\n",
    "import matplotlib.pyplot as plt\n",
    "import seaborn as sns"
   ]
  },
  {
   "cell_type": "markdown",
   "id": "5c8ccd50",
   "metadata": {},
   "source": [
    "### Carga de datos\n",
    "\n",
    "Ahora, lo primero que haremos será cargar los datos de los que partimos y realizar un análisis previo de ellos. Es muy importante entender el conjunto de datos antes de proceder a la implementación de cualquier sistema.\n",
    "\n",
    "Para este sistema, tendremos en cuenta **las valoraciones, reseñas, películas vistas y películas que el usuario tiene en su lista para ver.**"
   ]
  },
  {
   "cell_type": "code",
   "execution_count": 17,
   "id": "b1195063",
   "metadata": {},
   "outputs": [],
   "source": [
    "# Datos de la persona 1\n",
    "watchlist = pd.read_csv('archivos/watchlist.csv')\n",
    "ratings = pd.read_csv('archivos/ratings.csv')\n",
    "#reviews = pd.read_csv('archivos/reviews.csv')\n",
    "watched = pd.read_csv('archivos/watched.csv')\n",
    "\n",
    "# Datos de la persona 2\n",
    "watchlist_2 = pd.read_csv('archivos/watchlist-2.csv')\n",
    "ratings_2 = pd.read_csv('archivos/ratings-2.csv')\n",
    "#reviews_2 = pd.read_csv('archivos/reviews_2.csv')\n",
    "watched_2 = pd.read_csv('archivos/watched-2.csv')"
   ]
  },
  {
   "cell_type": "markdown",
   "id": "5c0e796f",
   "metadata": {},
   "source": [
    "### Análisis de los datos"
   ]
  },
  {
   "cell_type": "code",
   "execution_count": 19,
   "id": "6e381aeb",
   "metadata": {},
   "outputs": [
    {
     "name": "stdout",
     "output_type": "stream",
     "text": [
      "=== RESUMEN DE DATOS ===\n",
      "Persona 1:\n",
      "  - Películas en watchlist: 41\n",
      "  - Películas puntuadas: 137\n",
      "  - Películas vistas: 137\n",
      "\n",
      "Persona 2:\n",
      "  - Películas en watchlist: 230\n",
      "  - Películas puntuadas: 159\n",
      "  - Películas vistas: 170\n",
      "\n",
      "=== MUESTRA DE RATINGS PERSONA 1 ===\n",
      "         Date          Name  Year        Letterboxd URI  Rating\n",
      "0  2023-09-21        Barbie  2023  https://boxd.it/bCLK     4.5\n",
      "1  2023-09-21   Oppenheimer  2023  https://boxd.it/wUow     5.0\n",
      "2  2023-09-21    La La Land  2016  https://boxd.it/a5fa     3.5\n",
      "3  2023-09-21    Fight Club  1999  https://boxd.it/2a9q     5.0\n",
      "4  2023-09-21  Interstellar  2014  https://boxd.it/4VZ8     5.0\n",
      "\n",
      "=== MUESTRA DE RATINGS PERSONA 2 ===\n",
      "         Date             Name  Year        Letterboxd URI  Rating\n",
      "0  2023-01-22            Joker  2019  https://boxd.it/h4cS     5.0\n",
      "1  2023-01-22       Fight Club  1999  https://boxd.it/2a9q     4.0\n",
      "2  2023-01-22        Midsommar  2019  https://boxd.it/jhxe     5.0\n",
      "3  2023-01-22     Interstellar  2014  https://boxd.it/4VZ8     5.0\n",
      "4  2023-01-22  American Psycho  2000  https://boxd.it/28Vs     3.0\n"
     ]
    }
   ],
   "source": [
    "# Análisis exploratorio de los datos\n",
    "print(\"=== RESUMEN DE DATOS ===\")\n",
    "print(f\"Persona 1:\")\n",
    "print(f\"  - Películas en watchlist: {len(watchlist)}\")\n",
    "print(f\"  - Películas puntuadas: {len(ratings)}\")\n",
    "print(f\"  - Películas vistas: {len(watched)}\")\n",
    "\n",
    "print(f\"\\nPersona 2:\")\n",
    "print(f\"  - Películas en watchlist: {len(watchlist_2)}\")\n",
    "print(f\"  - Películas puntuadas: {len(ratings_2)}\")\n",
    "print(f\"  - Películas vistas: {len(watched_2)}\")\n",
    "\n",
    "# Visualizamos algunas muestras de los datos\n",
    "print(\"\\n=== MUESTRA DE RATINGS PERSONA 1 ===\")\n",
    "print(ratings.head())\n",
    "\n",
    "print(\"\\n=== MUESTRA DE RATINGS PERSONA 2 ===\")\n",
    "print(ratings_2.head())"
   ]
  },
  {
   "cell_type": "markdown",
   "id": "b29a6b73",
   "metadata": {},
   "source": [
    "Con esto podemos ver cuales son los atributos de cada tabla y a partir de esta información comenzar a tratar los datos."
   ]
  },
  {
   "cell_type": "markdown",
   "id": "99aefedc",
   "metadata": {},
   "source": [
    "### Implementación del sistema\n",
    "\n",
    "Una vez que tenemos los datos de las dos personas, compararemos sus peliculas vistas, como rankearon esa pelicula y las películas que quieren ver.\n",
    "\n",
    "El dataset utilizado se ha obtenido de la siguiente fuente: [Dataset](https://grouplens.org/datasets/movielens)"
   ]
  },
  {
   "cell_type": "markdown",
   "id": "2c070ad9",
   "metadata": {},
   "source": [
    "#### Puntuación de películas vistas por ambas personas"
   ]
  },
  {
   "cell_type": "code",
   "execution_count": 33,
   "id": "69b48557",
   "metadata": {},
   "outputs": [
    {
     "name": "stdout",
     "output_type": "stream",
     "text": [
      "\n",
      "=== SIMILITUD ENTRE RATINGS DE PELICULAS VISTAS SEGÚN DIFERENCIA ABSOLUTA PROMEDIO ===\n",
      "Similitud promedio de ratings: 80.21%\n",
      "\n",
      "=== SIMILITUD ENTRE RATINGS DE PELICULAS VISTAS SEGÚN SIMILITUD COSENO ===\n",
      "Similitud según similitud coseno: 96.93%\n"
     ]
    }
   ],
   "source": [
    "# Primeramente, realizaremos un primer análisis en funcion de las películas que ambas personas han visto,\n",
    "#  es decir, la intersección de los dos conjuntos de datos.\n",
    "\n",
    "peliculas_vistas1 = set(watched['Name'])\n",
    "peliculas_vistas2 = set(watched_2['Name'])\n",
    "\n",
    "peliculas_comun = peliculas_vistas1 & peliculas_vistas2 #& simboliza la intersección de conjuntos\n",
    "\n",
    "# Ahora que tenemos las peliculas que ambas personas vieron, podemos crear una tabla con cada pelicula\n",
    "# donde las columnas serán el rating de cada persona y la película en cuestión.\n",
    "# Usar una lista para recolectar los datos y luego crear el DataFrame\n",
    "comparacion_rows = []\n",
    "for pelicula in peliculas_comun:\n",
    "    rating1 = ratings.loc[ratings['Name'] == pelicula, 'Rating'].values\n",
    "    rating2 = ratings_2.loc[ratings_2['Name'] == pelicula, 'Rating'].values\n",
    "\n",
    "    comparacion_rows.append({\n",
    "        'Movie': pelicula,\n",
    "        'Rating_Person1': rating1[0] if len(rating1) > 0 else None,\n",
    "        'Rating_Person2': rating2[0] if len(rating2) > 0 else None\n",
    "    })\n",
    "\n",
    "comparacion = pd.DataFrame(comparacion_rows, columns=['Movie', 'Rating_Person1', 'Rating_Person2'])\n",
    "\n",
    "# Una vez tenemos la tabla comparativa, podemos analizar la compatibilidad entre las dos personas.\n",
    "compatibilidad = comparacion.dropna()  # Eliminar filas con NaN\n",
    "\n",
    "# Para calcular la similitud entre ratings de peliculas vistas, vamos a usar una combinacion de la\n",
    "# diferencia absoluta promecio\n",
    "\n",
    "# DIFERENCIA ABSOLUTA PROMEDIO\n",
    "diferencia_promedio = np.mean(abs(compatibilidad['Rating_Person1'] - compatibilidad['Rating_Person2']))\n",
    "diferencia_maxima  = 4 # Porque el raintg de Letterboxd varía entre 0 y 5\n",
    "similitud_ratings_dif_abs = (1 - (diferencia_promedio / diferencia_maxima)) * 100\n",
    "\n",
    "print(f\"\\n=== SIMILITUD ENTRE RATINGS DE PELICULAS VISTAS SEGÚN DIFERENCIA ABSOLUTA PROMEDIO ===\")\n",
    "print(f\"Similitud promedio de ratings: {similitud_ratings_dif_abs:.2f}%\")\n",
    "\n",
    "\n",
    "# SIMILITUD COSENO\n",
    "from sklearn.metrics.pairwise import cosine_similarity\n",
    "ratings1 = comparacion['Rating_Person1'].values.reshape(1, -1)\n",
    "ratings2 = comparacion['Rating_Person2'].values.reshape(1, -1)\n",
    "similitud_coseno = cosine_similarity(ratings1, ratings2)[0][0]\n",
    "similitud_coseno = similitud_coseno * 100\n",
    "\n",
    "print(f\"\\n=== SIMILITUD ENTRE RATINGS DE PELICULAS VISTAS SEGÚN SIMILITUD COSENO ===\")\n",
    "print(f\"Similitud según similitud coseno: {similitud_coseno:.2f}%\")\n",
    "\n",
    "\n"
   ]
  },
  {
   "cell_type": "markdown",
   "id": "abf47ecd",
   "metadata": {},
   "source": [
    "#### Similitud de películas en la lista de seguimiento"
   ]
  },
  {
   "cell_type": "code",
   "execution_count": 29,
   "id": "64b37f7e",
   "metadata": {},
   "outputs": [
    {
     "name": "stdout",
     "output_type": "stream",
     "text": [
      "\n",
      "=== SIMILITUD ENTRE LISTAS DE SEGUIMIENTO SEGÚN COEFICIENTE DE JACCARD ===\n",
      "Similitud entre listas de seguimiento: 2.69%\n"
     ]
    }
   ],
   "source": [
    "peliculas_watchlist1 = set(watchlist['Name'].values)\n",
    "peliculas_watchlist2 = set(watchlist_2['Name'].values)\n",
    "\n",
    "# Ahora que tenemos ambos conjutnos, vamos a utilizar el coeficiente de Jaccard para ver \n",
    "# cual es la similitud entre las dos listas de seguimiento.\n",
    "intersection = peliculas_watchlist1.intersection(peliculas_watchlist2)\n",
    "union = peliculas_watchlist1.union(peliculas_watchlist2)\n",
    "similitud_jaccard = len(intersection) / len(union) * 100\n",
    "\n",
    "print(f\"\\n=== SIMILITUD ENTRE LISTAS DE SEGUIMIENTO SEGÚN COEFICIENTE DE JACCARD ===\")\n",
    "print(f\"Similitud entre listas de seguimiento: {similitud_jaccard:.2f}%\")\n"
   ]
  },
  {
   "cell_type": "markdown",
   "id": "06333c76",
   "metadata": {},
   "source": [
    "#### Similitud entre peliculas vistas persona1 y watchlist de personas 2 y viceversa\n",
    "\n",
    "Ahora tenemos que estudiar la relación existente entre las películas vistas de una persona y la watchlist de la otra ya que puede darse que se hayan visto películas que la otra persona quiere ver, lo que muestra una compatibilidad"
   ]
  },
  {
   "cell_type": "code",
   "execution_count": 30,
   "id": "525c68e7",
   "metadata": {},
   "outputs": [
    {
     "name": "stdout",
     "output_type": "stream",
     "text": [
      "\n",
      "=== SIMILITUD ENTRE PELÍCULAS VISTAS DE PERSONA 1 Y WATCHLIST DE PERSONA 2 SEGÚN COEFICIENTE DE JACCARD ===\n",
      "Similitud entre películas vistas y watchlist: 8.04%\n",
      "\n",
      "=== SIMILITUD ENTRE PELÍCULAS VISTAS DE PERSONA 2 Y WATCHLIST DE PERSONA 1 SEGÚN COEFICIENTE DE JACCARD ===\n",
      "Similitud entre películas vistas y watchlist: 1.93%\n"
     ]
    }
   ],
   "source": [
    "peliculas_watched = set(watched['Name'].values)\n",
    "peliculas_watchlist = set(watchlist_2['Name'].values)\n",
    "\n",
    "# Una vez tenemos estos datos, aplicamos el coeficiente de Jaccard para ver la similitud entre las películas vistas por la persona 1 y la watchlist de la persona 2.\n",
    "intersection = peliculas_watched.intersection(peliculas_watchlist)  \n",
    "union = peliculas_watched.union(peliculas_watchlist)\n",
    "similitud_jaccard_watched_watchlist = len(intersection) / len(union) * 100\n",
    "\n",
    "print(f\"\\n=== SIMILITUD ENTRE PELÍCULAS VISTAS DE PERSONA 1 Y WATCHLIST DE PERSONA 2 SEGÚN COEFICIENTE DE JACCARD ===\")\n",
    "print(f\"Similitud entre películas vistas y watchlist: {similitud_jaccard_watched_watchlist:.2f}%\")\n",
    "\n",
    "# Ahora tenemos que realizar el mismo proceso pero de manera inversa ya que ambas personas no han visto las mismas peliculas ni tienen la misma watchlist.\n",
    "peliculas_watched_2 = set(watched_2['Name'].values)\n",
    "peliculas_watchlist_2 = set(watchlist['Name'].values)\n",
    "\n",
    "# Aplicamos el coeficiente de Jaccard para ver la similitud entre las películas vistas por la persona 2 y la watchlist de la persona 1.\n",
    "intersection = peliculas_watched_2.intersection(peliculas_watchlist_2)\n",
    "union = peliculas_watched_2.union(peliculas_watchlist_2)\n",
    "similitud_jaccard_watched_watchlist_2 = len(intersection) / len(union) * 100\n",
    "\n",
    "print(f\"\\n=== SIMILITUD ENTRE PELÍCULAS VISTAS DE PERSONA 2 Y WATCHLIST DE PERSONA 1 SEGÚN COEFICIENTE DE JACCARD ===\")\n",
    "print(f\"Similitud entre películas vistas y watchlist: {similitud_jaccard_watched_watchlist_2:.2f}%\")\n"
   ]
  },
  {
   "cell_type": "markdown",
   "id": "3551095b",
   "metadata": {},
   "source": [
    "#### Similitud entre géneros más vistos\n",
    "\n",
    "Para ello, vamos a utilizar un dataset de películas, el cual no es el de Letterboxd, ya que ocupa 22GB.\n",
    "\n",
    "El cálculo de este apartado es tan tedioso porque no utilice biblioteca externas y porque el dataset utilizado para extraer el género de las películas combinaba título con año de lanzamiento."
   ]
  },
  {
   "cell_type": "code",
   "execution_count": 114,
   "id": "8d243db0",
   "metadata": {},
   "outputs": [
    {
     "name": "stdout",
     "output_type": "stream",
     "text": [
      "Géneros únicos encontrados: 19\n",
      "Primeros 10 géneros: ['Crime', 'Fantasy', 'Sci-Fi', 'War', 'Documentary', 'Action', 'Children', 'Thriller', 'Mystery', 'Romance']\n"
     ]
    }
   ],
   "source": [
    "import re\n",
    "movies = pd.read_csv('archivos/movies.csv')\n",
    "\n",
    "#Nombres de las peliculas\n",
    "# Nombres de las películas - LIMPIEZA COMPLETA\n",
    "def limpiar_titulo(titulo):\n",
    "    if pd.notna(titulo):\n",
    "        # Extraer año primero\n",
    "        lanzamiento = re.search(r'\\((\\d{4})\\)', titulo)\n",
    "        año = lanzamiento.group(1) if lanzamiento else None\n",
    "        \n",
    "        # Quitar fecha entre paréntesis y espacios finales\n",
    "        titulo_limpio = re.sub(r'\\s*\\(\\d{4}\\)$', '', titulo.strip())\n",
    "        \n",
    "        return (titulo_limpio, año)\n",
    "    return (None, None)\n",
    "\n",
    "# Aplicar la limpieza a todos los títulos\n",
    "movies_data = []\n",
    "for titulo in movies['title'].values:\n",
    "    titulo_limpio, año = limpiar_titulo(titulo)\n",
    "    movies_data.append((titulo_limpio, año))\n",
    "\n",
    "# También crear una versión limpia del DataFrame para usar después\n",
    "# Crear columnas separadas en el DataFrame\n",
    "movies['title_clean'] = [data[0] for data in movies_data]\n",
    "movies['year'] = [data[1] for data in movies_data]\n",
    "\n",
    "# Crear conjuntos con tuplas (titulo, año) para comparaciones más precisas\n",
    "peliculas_con_anyo = set((titulo, año) for titulo, año in movies_data if titulo is not None)\n",
    "\n",
    "peliculas_letterboxd_1 = set()\n",
    "for _, row in watched.iterrows():\n",
    "    if pd.notna(row['Name']) and pd.notna(row['Year']):\n",
    "        # Convertir año a string para que coincida con movies_data\n",
    "        año_str = str(int(row['Year'])) if isinstance(row['Year'], (int, float)) else str(row['Year'])\n",
    "        peliculas_letterboxd_1.add((row['Name'], año_str))\n",
    "\n",
    "peliculas_letterboxd_2 = set()\n",
    "for _, row in watched_2.iterrows():\n",
    "    if pd.notna(row['Name']) and pd.notna(row['Year']):\n",
    "        año_str = str(int(row['Year'])) if isinstance(row['Year'], (int, float)) else str(row['Year'])\n",
    "        peliculas_letterboxd_2.add((row['Name'], año_str))\n",
    "\n",
    "# AHORA SÍ PUEDES HACER LA INTERSECCIÓN CON TÍTULO + AÑO\n",
    "intersecion_1 = peliculas_con_anyo & peliculas_letterboxd_1\n",
    "intersecion_2 = peliculas_con_anyo & peliculas_letterboxd_2\n",
    "\n",
    "\n",
    "\n",
    "generos = set(movies['genres'].values)\n",
    "\n",
    "# En el dataset los generos vienen separados por pipe (|), por lo que vamos a separarlos y quedarnos con los únicos.\n",
    "todos_los_generos = []\n",
    "for generos_fila in movies['genres'].values:\n",
    "    if pd.notna(generos_fila):  # Verificar que no sea NaN\n",
    "        generos_individuales = generos_fila.split('|')\n",
    "        todos_los_generos.extend([genero.strip() for genero in generos_individuales])\n",
    "\n",
    "\n",
    "# Crear set de géneros únicos, excluyendo vacíos\n",
    "generos = set(genero for genero in todos_los_generos if genero and genero != '(no genres listed)')\n",
    "\n",
    "print(f\"Géneros únicos encontrados: {len(generos)}\")\n",
    "print(f\"Primeros 10 géneros: {list(generos)[:10]}\")\n",
    "\n",
    "# Calculamos la similitud entre géneros de las películas vistas por ambas personas\n",
    "similitud_generos = {}\n",
    "\n",
    "for genero in generos:\n",
    "    # Filtrar películas vistas por persona 1 y contar cuántas tienen el género actual\n",
    "    contador_genero_1 = 0\n",
    "    for titulo_pelicula, año_pelicula in intersecion_1:\n",
    "        # Buscar la película en el DataFrame por título limpio\n",
    "        try:\n",
    "            mask = movies['title_clean'] == titulo_pelicula\n",
    "            if mask.any():\n",
    "                generos_pelicula = movies[mask]['genres'].iloc[0]\n",
    "                if pd.notna(generos_pelicula) and genero in generos_pelicula:\n",
    "                    contador_genero_1 += 1\n",
    "        except (IndexError, KeyError):\n",
    "            continue\n",
    "    \n",
    "    contador_genero_2 = 0\n",
    "    for titulo_pelicula, año_pelicula in intersecion_2:\n",
    "        try:\n",
    "            mask = movies['title_clean'] == titulo_pelicula\n",
    "            if mask.any():\n",
    "                generos_pelicula = movies[mask]['genres'].iloc[0]\n",
    "                if pd.notna(generos_pelicula) and genero in generos_pelicula:\n",
    "                    contador_genero_2 += 1\n",
    "        except (IndexError, KeyError):\n",
    "            continue\n",
    "    \n",
    "    if contador_genero_1 > 0 and contador_genero_2 > 0:\n",
    "        similitud_generos[genero] = min(contador_genero_1, contador_genero_2) / max(contador_genero_1, contador_genero_2) * 100\n",
    "\n",
    "\n",
    "\n",
    "    "
   ]
  },
  {
   "cell_type": "code",
   "execution_count": 116,
   "id": "6b1f9a83",
   "metadata": {},
   "outputs": [],
   "source": [
    "# Similitud ponderada por frecuencia\n",
    "def calcular_similitud_ponderada():\n",
    "    similitud_total = 0\n",
    "    peso_total = 0\n",
    "    \n",
    "    for genero in generos:\n",
    "        count1 = 0\n",
    "        for titulo_pelicula, año_pelicula in intersecion_1:\n",
    "            try:\n",
    "                mask = movies['title_clean'] == titulo_pelicula\n",
    "                if mask.any():\n",
    "                    generos_pelicula = movies[mask]['genres'].iloc[0]\n",
    "                    if pd.notna(generos_pelicula) and genero in generos_pelicula:\n",
    "                        count1 += 1\n",
    "            except (IndexError, KeyError):\n",
    "                continue\n",
    "                \n",
    "        count2 = 0\n",
    "        for titulo_pelicula, año_pelicula in intersecion_2:\n",
    "            try:\n",
    "                mask = movies['title_clean'] == titulo_pelicula\n",
    "                if mask.any():\n",
    "                    generos_pelicula = movies[mask]['genres'].iloc[0]\n",
    "                    if pd.notna(generos_pelicula) and genero in generos_pelicula:\n",
    "                        count2 += 1\n",
    "            except (IndexError, KeyError):\n",
    "                continue\n",
    "        \n",
    "        if count1 > 0 and count2 > 0:\n",
    "            peso = count1 + count2\n",
    "            similitud = min(count1, count2) / max(count1, count2) * 100\n",
    "            similitud_total += similitud * peso\n",
    "            peso_total += peso\n",
    "    \n",
    "    return similitud_total / peso_total if peso_total > 0 else 0\n",
    "\n",
    "similitud_ponderada_genero = calcular_similitud_ponderada()"
   ]
  },
  {
   "cell_type": "code",
   "execution_count": 117,
   "id": "d909e11a",
   "metadata": {},
   "outputs": [
    {
     "name": "stdout",
     "output_type": "stream",
     "text": [
      "Porcentaje de similitud de generos: 58.79%\n"
     ]
    }
   ],
   "source": [
    "print(f\"Porcentaje de similitud de generos: {similitud_ponderada_genero:.2f}%\" )"
   ]
  },
  {
   "cell_type": "markdown",
   "id": "ab83f080",
   "metadata": {},
   "source": [
    "### Calculo de la compatibilidad final\n",
    "\n",
    "Para el calculo final utilizaremos las diferentes métricas utilizadas anteriormente.\n",
    "\n",
    "Para ello, le dare más peso a las ratings de las películas vistas por ambas personas ya que representan una gran compatibilidad mientras que a lo mejor la watchlist no tanto porque pueden interferir elementos como que una persona no actualice su watchlist, no la use, tenga menos películas pendientes, etc."
   ]
  },
  {
   "cell_type": "code",
   "execution_count": 118,
   "id": "daf45a5a",
   "metadata": {},
   "outputs": [
    {
     "name": "stdout",
     "output_type": "stream",
     "text": [
      "Basado en las valoraciones de películas vistas, las watchlists y los géneros de las películas vistas.\n",
      "Donde se ha dado más peso a la similitud de ratings y géneros, y menos a las watchlists.\n",
      "\n",
      "=== COMPATIBILIDAD FINAL ENTRE LAS DOS PERSONAS ===\n",
      "Compatibilidad final: 55.77%\n",
      "\n",
      "Género más influyente: Film-Noir con 100.00%\n",
      "En películas como: ['Drive']\n",
      "\n",
      "Género menos influyente: IMAX con 20.00%\n",
      "Películas de IMAX en común: ['How to Train Your Dragon', 'Interstellar']\n"
     ]
    }
   ],
   "source": [
    "# Utilizamos las metricas anteriores para calcular la compatibilidad final.\n",
    "compatibilidad_final = (\n",
    "    (similitud_coseno * 0.35) +\n",
    "    (similitud_jaccard * 0.1) +\n",
    "    (similitud_jaccard_watched_watchlist * 0.1) +\n",
    "    (similitud_jaccard_watched_watchlist_2 * 0.1) +\n",
    "    (similitud_ponderada_genero * 0.35)\n",
    ")\n",
    "\n",
    "print(\"Basado en las valoraciones de películas vistas, las watchlists y los géneros de las películas vistas.\")\n",
    "print(\"Donde se ha dado más peso a la similitud de ratings y géneros, y menos a las watchlists.\")\n",
    "\n",
    "\n",
    "print(f\"\\n=== COMPATIBILIDAD FINAL ENTRE LAS DOS PERSONAS ===\")\n",
    "print(f\"Compatibilidad final: {compatibilidad_final:.2f}%\")\n",
    "\n",
    "\n",
    "\n",
    "# Encontrar el género con mayor similitud ponderada\n",
    "print()\n",
    "genero_mas_influyente = max(similitud_generos, key=similitud_generos.get)\n",
    "print(f\"Género más influyente: {genero_mas_influyente} con {similitud_generos[genero_mas_influyente]:.2f}%\")\n",
    "\n",
    "\n",
    "# Obtener la intersección de títulos limpios y películas vistas por ambas personas\n",
    "peliculas_mismo_genero = set(movies['title_clean']) & set(watched['Name'].values) & set(watched_2['Name'].values) & set(movies[movies['genres'].str.contains(genero_mas_influyente, na=False)]['title_clean'].values)\n",
    "\n",
    "print(f\"En películas como: {list(peliculas_mismo_genero)[:5]}\")  # Muestra las primeras 5 películas del conjunto\n",
    "\n",
    "# Encontrar el género con menor similitud ponderada\n",
    "print()\n",
    "genero_menos_influyente = min(similitud_generos, key=similitud_generos.get)\n",
    "print(f\"Género menos influyente: {genero_menos_influyente} con {similitud_generos[genero_menos_influyente]:.2f}%\")\n",
    "\n",
    "\n",
    "# Obtener la intersección de títulos limpios y películas vistas por ambas personas\n",
    "peliculas_mismo_genero = set(movies['title_clean']) & set(watched['Name'].values) & set(watched_2['Name'].values) & set(movies[movies['genres'].str.contains(genero_menos_influyente, na=False)]['title_clean'].values)\n",
    "print(f\"Películas de {genero_menos_influyente} en común: {list(peliculas_mismo_genero)[:5]}\")  # Muestra las primeras 5 películas del conjunto"
   ]
  }
 ],
 "metadata": {
  "kernelspec": {
   "display_name": "myenv",
   "language": "python",
   "name": "python3"
  },
  "language_info": {
   "codemirror_mode": {
    "name": "ipython",
    "version": 3
   },
   "file_extension": ".py",
   "mimetype": "text/x-python",
   "name": "python",
   "nbconvert_exporter": "python",
   "pygments_lexer": "ipython3",
   "version": "3.11.6"
  }
 },
 "nbformat": 4,
 "nbformat_minor": 5
}
